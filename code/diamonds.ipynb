{
 "cells": [
  {
   "cell_type": "code",
   "execution_count": 652,
   "metadata": {},
   "outputs": [],
   "source": [
    "import pandas as pd\n",
    "import numpy as np\n",
    "import matplotlib.pyplot as plt\n",
    "import seaborn as sns\n",
    "from scipy import stats\n",
    "from sklearn import preprocessing\n",
    "from sklearn.linear_model import LogisticRegression\n",
    "from sklearn.model_selection import cross_validate\n",
    "from sklearn.ensemble import GradientBoostingRegressor\n",
    "import seaborn as sns\n",
    "from sklearn.preprocessing import StandardScaler\n",
    "from sklearn.preprocessing import RobustScaler\n",
    "from pandas.plotting import scatter_matrix\n",
    "from sklearn.decomposition import PCA\n",
    "from sklearn.model_selection import train_test_split\n",
    "from sklearn.metrics import mean_squared_error, r2_score, accuracy_score, make_scorer\n",
    "from sklearn.ensemble import RandomForestRegressor\n",
    "from sklearn.model_selection import GridSearchCV\n",
    "import pickle"
   ]
  },
  {
   "cell_type": "markdown",
   "metadata": {},
   "source": [
    "### First, i'm going to prepare the data before training"
   ]
  },
  {
   "cell_type": "code",
   "execution_count": 663,
   "metadata": {},
   "outputs": [],
   "source": [
    "diamonds_train = pd.read_csv('../input/data.csv')\n",
    "diamonds_test = pd.read_csv('../input/test.csv')"
   ]
  },
  {
   "cell_type": "code",
   "execution_count": 664,
   "metadata": {},
   "outputs": [
    {
     "data": {
      "text/html": [
       "<div>\n",
       "<style scoped>\n",
       "    .dataframe tbody tr th:only-of-type {\n",
       "        vertical-align: middle;\n",
       "    }\n",
       "\n",
       "    .dataframe tbody tr th {\n",
       "        vertical-align: top;\n",
       "    }\n",
       "\n",
       "    .dataframe thead th {\n",
       "        text-align: right;\n",
       "    }\n",
       "</style>\n",
       "<table border=\"1\" class=\"dataframe\">\n",
       "  <thead>\n",
       "    <tr style=\"text-align: right;\">\n",
       "      <th></th>\n",
       "      <th>carat</th>\n",
       "      <th>cut</th>\n",
       "      <th>color</th>\n",
       "      <th>clarity</th>\n",
       "      <th>depth</th>\n",
       "      <th>table</th>\n",
       "      <th>x</th>\n",
       "      <th>y</th>\n",
       "      <th>z</th>\n",
       "      <th>price</th>\n",
       "    </tr>\n",
       "  </thead>\n",
       "  <tbody>\n",
       "    <tr>\n",
       "      <th>0</th>\n",
       "      <td>2.26</td>\n",
       "      <td>Ideal</td>\n",
       "      <td>G</td>\n",
       "      <td>SI2</td>\n",
       "      <td>61.9</td>\n",
       "      <td>57.0</td>\n",
       "      <td>8.44</td>\n",
       "      <td>8.36</td>\n",
       "      <td>5.20</td>\n",
       "      <td>12831</td>\n",
       "    </tr>\n",
       "    <tr>\n",
       "      <th>1</th>\n",
       "      <td>2.43</td>\n",
       "      <td>Very Good</td>\n",
       "      <td>H</td>\n",
       "      <td>SI2</td>\n",
       "      <td>63.2</td>\n",
       "      <td>57.0</td>\n",
       "      <td>8.56</td>\n",
       "      <td>8.50</td>\n",
       "      <td>5.39</td>\n",
       "      <td>16170</td>\n",
       "    </tr>\n",
       "    <tr>\n",
       "      <th>2</th>\n",
       "      <td>0.80</td>\n",
       "      <td>Premium</td>\n",
       "      <td>F</td>\n",
       "      <td>SI2</td>\n",
       "      <td>61.0</td>\n",
       "      <td>57.0</td>\n",
       "      <td>6.03</td>\n",
       "      <td>6.01</td>\n",
       "      <td>3.67</td>\n",
       "      <td>2797</td>\n",
       "    </tr>\n",
       "    <tr>\n",
       "      <th>3</th>\n",
       "      <td>0.40</td>\n",
       "      <td>Ideal</td>\n",
       "      <td>F</td>\n",
       "      <td>I1</td>\n",
       "      <td>63.3</td>\n",
       "      <td>60.0</td>\n",
       "      <td>4.68</td>\n",
       "      <td>4.64</td>\n",
       "      <td>2.95</td>\n",
       "      <td>630</td>\n",
       "    </tr>\n",
       "    <tr>\n",
       "      <th>4</th>\n",
       "      <td>0.31</td>\n",
       "      <td>Ideal</td>\n",
       "      <td>G</td>\n",
       "      <td>VS2</td>\n",
       "      <td>61.6</td>\n",
       "      <td>55.0</td>\n",
       "      <td>4.39</td>\n",
       "      <td>4.37</td>\n",
       "      <td>2.70</td>\n",
       "      <td>698</td>\n",
       "    </tr>\n",
       "  </tbody>\n",
       "</table>\n",
       "</div>"
      ],
      "text/plain": [
       "   carat        cut color clarity  depth  table     x     y     z  price\n",
       "0   2.26      Ideal     G     SI2   61.9   57.0  8.44  8.36  5.20  12831\n",
       "1   2.43  Very Good     H     SI2   63.2   57.0  8.56  8.50  5.39  16170\n",
       "2   0.80    Premium     F     SI2   61.0   57.0  6.03  6.01  3.67   2797\n",
       "3   0.40      Ideal     F      I1   63.3   60.0  4.68  4.64  2.95    630\n",
       "4   0.31      Ideal     G     VS2   61.6   55.0  4.39  4.37  2.70    698"
      ]
     },
     "execution_count": 664,
     "metadata": {},
     "output_type": "execute_result"
    }
   ],
   "source": [
    "diamonds_train.head()"
   ]
  },
  {
   "cell_type": "code",
   "execution_count": 655,
   "metadata": {},
   "outputs": [],
   "source": [
    "# Correlation with Seaborn to see the correlation between variables\n",
    "\n",
    "def Graphs(data):\n",
    "    sns.set(style=\"ticks\", color_codes=True)\n",
    "    graph = sns.pairplot(data)\n",
    "    return graph, data.describe()"
   ]
  },
  {
   "cell_type": "code",
   "execution_count": 575,
   "metadata": {},
   "outputs": [
    {
     "data": {
      "text/plain": [
       "<matplotlib.axes._subplots.AxesSubplot at 0x1b94874128>"
      ]
     },
     "execution_count": 575,
     "metadata": {},
     "output_type": "execute_result"
    },
    {
     "data": {
      "image/png": "[encoded data removed]",
      "text/plain": [
       "<Figure size 720x720 with 2 Axes>"
      ]
     },
     "metadata": {},
     "output_type": "display_data"
    }
   ],
   "source": [
    "plt.figure(figsize=(10,10))\n",
    "sns.heatmap(diamonds_train.corr(), annot=True)\n",
    "\n",
    "#As we can see column 'x' has a high correlation with 'carat'"
   ]
  },
  {
   "cell_type": "markdown",
   "metadata": {},
   "source": [
    "### - There is a high correlation between x & z and y & z. For the reason I drop that columns"
   ]
  },
  {
   "cell_type": "code",
   "execution_count": 665,
   "metadata": {},
   "outputs": [],
   "source": [
    "diamonds_train = diamonds_train.drop(columns=['x', 'y'])\n",
    "diamonds_test = diamonds_test.drop(columns=['id', 'x', 'y'])"
   ]
  },
  {
   "cell_type": "markdown",
   "metadata": {},
   "source": [
    "### - One of the options to categorical columns is to use get dummies. At the beginnig, i did it but the results were not better than other "
   ]
  },
  {
   "cell_type": "code",
   "execution_count": 521,
   "metadata": {},
   "outputs": [],
   "source": [
    "def get_dummies(data, list_columns):\n",
    "    data_copy = data.copy()\n",
    "    return pd.get_dummies(data_copy, columns=list_columns, drop_first=True)\n",
    "\n",
    "diamonds_train_copy = get_dummies(diamonds_train, ['cut', 'color', 'clarity'])\n",
    "diamonds_test_copy = get_dummies(diamonds_test, ['cut', 'color', 'clarity'])"
   ]
  },
  {
   "cell_type": "markdown",
   "metadata": {},
   "source": [
    "### - I decided to create my on dicctionary with the values, depends on which label is more important"
   ]
  },
  {
   "cell_type": "code",
   "execution_count": 666,
   "metadata": {},
   "outputs": [],
   "source": [
    "def categorialDicc(data):\n",
    "    \n",
    "    data['cut']=data['cut'].map({'Ideal':1,'Good':2,'Very Good':3,'Fair':4,'Premium':5})\n",
    "    data['color']=data['color'].map({'E':1,'D':2,'F':3,'G':4,'H':5,'I':6,'J':7})\n",
    "    data['clarity']=data['clarity'].map({'VVS1':1,'IF':2,'VVS2':3,'VS1':4,'I1':5,'VS2':6,'SI1':7,'SI2':8})\n",
    "    return data\n",
    "\n",
    "diamonds_train_copy = categorialDicc(diamonds_train)\n",
    "diamonds_test_copy = categorialDicc(diamonds_test)"
   ]
  },
  {
   "cell_type": "markdown",
   "metadata": {},
   "source": [
    "### - It's important to create new features to obtain good results in our model. I found a relationship between table & cut and depth & cut. I calculate the mean of them"
   ]
  },
  {
   "cell_type": "code",
   "execution_count": 667,
   "metadata": {},
   "outputs": [],
   "source": [
    "diamonds_train_copy['mean_cut_table'] = diamonds_train_copy['table']/diamonds_train['cut']\n",
    "diamonds_train_copy['mean_cut_depth'] = diamonds_train_copy['depth']/diamonds_train['cut']\n",
    "diamonds_test_copy['mean_cut_table'] = diamonds_test_copy['table']/diamonds_test['cut']\n",
    "diamonds_test_copy['mean_cut_depth'] = diamonds_test_copy['depth']/diamonds_test['cut']"
   ]
  },
  {
   "cell_type": "markdown",
   "metadata": {},
   "source": [
    "### - I standardize the numerical values"
   ]
  },
  {
   "cell_type": "code",
   "execution_count": 668,
   "metadata": {},
   "outputs": [],
   "source": [
    "diamonds_train_copy[['carat','depth','table', 'z', 'mean_cut_table', 'mean_cut_depth']] = scaler.fit_transform(diamonds_train_copy[['carat','depth','table', 'z','mean_cut_table', 'mean_cut_depth']])\n",
    "diamonds_test_copy[['carat','depth','table', 'z', 'mean_cut_table', 'mean_cut_depth']] = scaler.transform(diamonds_test_copy[['carat','depth','table', 'z','mean_cut_table', 'mean_cut_depth']])"
   ]
  },
  {
   "cell_type": "code",
   "execution_count": 669,
   "metadata": {},
   "outputs": [
    {
     "data": {
      "text/html": [
       "<div>\n",
       "<style scoped>\n",
       "    .dataframe tbody tr th:only-of-type {\n",
       "        vertical-align: middle;\n",
       "    }\n",
       "\n",
       "    .dataframe tbody tr th {\n",
       "        vertical-align: top;\n",
       "    }\n",
       "\n",
       "    .dataframe thead th {\n",
       "        text-align: right;\n",
       "    }\n",
       "</style>\n",
       "<table border=\"1\" class=\"dataframe\">\n",
       "  <thead>\n",
       "    <tr style=\"text-align: right;\">\n",
       "      <th></th>\n",
       "      <th>carat</th>\n",
       "      <th>cut</th>\n",
       "      <th>color</th>\n",
       "      <th>clarity</th>\n",
       "      <th>depth</th>\n",
       "      <th>table</th>\n",
       "      <th>z</th>\n",
       "      <th>mean_cut_table</th>\n",
       "      <th>mean_cut_depth</th>\n",
       "    </tr>\n",
       "  </thead>\n",
       "  <tbody>\n",
       "    <tr>\n",
       "      <th>0</th>\n",
       "      <td>-0.502553</td>\n",
       "      <td>1</td>\n",
       "      <td>6</td>\n",
       "      <td>6</td>\n",
       "      <td>0.245805</td>\n",
       "      <td>-1.550377</td>\n",
       "      <td>-0.337518</td>\n",
       "      <td>1.089424</td>\n",
       "      <td>1.211268</td>\n",
       "    </tr>\n",
       "    <tr>\n",
       "      <th>1</th>\n",
       "      <td>0.530446</td>\n",
       "      <td>1</td>\n",
       "      <td>4</td>\n",
       "      <td>6</td>\n",
       "      <td>0.106170</td>\n",
       "      <td>-0.653969</td>\n",
       "      <td>0.719265</td>\n",
       "      <td>1.192022</td>\n",
       "      <td>1.202098</td>\n",
       "    </tr>\n",
       "    <tr>\n",
       "      <th>2</th>\n",
       "      <td>-0.629043</td>\n",
       "      <td>5</td>\n",
       "      <td>1</td>\n",
       "      <td>6</td>\n",
       "      <td>-0.173100</td>\n",
       "      <td>-0.653969</td>\n",
       "      <td>-0.577056</td>\n",
       "      <td>-1.106167</td>\n",
       "      <td>-1.071898</td>\n",
       "    </tr>\n",
       "    <tr>\n",
       "      <th>3</th>\n",
       "      <td>0.003405</td>\n",
       "      <td>1</td>\n",
       "      <td>3</td>\n",
       "      <td>4</td>\n",
       "      <td>0.734528</td>\n",
       "      <td>-0.653969</td>\n",
       "      <td>0.268371</td>\n",
       "      <td>1.192022</td>\n",
       "      <td>1.243360</td>\n",
       "    </tr>\n",
       "    <tr>\n",
       "      <th>4</th>\n",
       "      <td>-0.544716</td>\n",
       "      <td>1</td>\n",
       "      <td>4</td>\n",
       "      <td>4</td>\n",
       "      <td>-0.242918</td>\n",
       "      <td>-0.205764</td>\n",
       "      <td>-0.478423</td>\n",
       "      <td>1.243321</td>\n",
       "      <td>1.179175</td>\n",
       "    </tr>\n",
       "  </tbody>\n",
       "</table>\n",
       "</div>"
      ],
      "text/plain": [
       "      carat  cut  color  clarity     depth     table         z  \\\n",
       "0 -0.502553    1      6        6  0.245805 -1.550377 -0.337518   \n",
       "1  0.530446    1      4        6  0.106170 -0.653969  0.719265   \n",
       "2 -0.629043    5      1        6 -0.173100 -0.653969 -0.577056   \n",
       "3  0.003405    1      3        4  0.734528 -0.653969  0.268371   \n",
       "4 -0.544716    1      4        4 -0.242918 -0.205764 -0.478423   \n",
       "\n",
       "   mean_cut_table  mean_cut_depth  \n",
       "0        1.089424        1.211268  \n",
       "1        1.192022        1.202098  \n",
       "2       -1.106167       -1.071898  \n",
       "3        1.192022        1.243360  \n",
       "4        1.243321        1.179175  "
      ]
     },
     "execution_count": 669,
     "metadata": {},
     "output_type": "execute_result"
    }
   ],
   "source": [
    "diamonds_test_copy.head()"
   ]
  },
  {
   "cell_type": "code",
   "execution_count": 670,
   "metadata": {},
   "outputs": [
    {
     "data": {
      "text/html": [
       "<div>\n",
       "<style scoped>\n",
       "    .dataframe tbody tr th:only-of-type {\n",
       "        vertical-align: middle;\n",
       "    }\n",
       "\n",
       "    .dataframe tbody tr th {\n",
       "        vertical-align: top;\n",
       "    }\n",
       "\n",
       "    .dataframe thead th {\n",
       "        text-align: right;\n",
       "    }\n",
       "</style>\n",
       "<table border=\"1\" class=\"dataframe\">\n",
       "  <thead>\n",
       "    <tr style=\"text-align: right;\">\n",
       "      <th></th>\n",
       "      <th>carat</th>\n",
       "      <th>cut</th>\n",
       "      <th>color</th>\n",
       "      <th>clarity</th>\n",
       "      <th>depth</th>\n",
       "      <th>table</th>\n",
       "      <th>z</th>\n",
       "      <th>price</th>\n",
       "      <th>mean_cut_table</th>\n",
       "      <th>mean_cut_depth</th>\n",
       "    </tr>\n",
       "  </thead>\n",
       "  <tbody>\n",
       "    <tr>\n",
       "      <th>0</th>\n",
       "      <td>3.081321</td>\n",
       "      <td>1</td>\n",
       "      <td>4</td>\n",
       "      <td>8</td>\n",
       "      <td>0.106170</td>\n",
       "      <td>-0.205764</td>\n",
       "      <td>2.339667</td>\n",
       "      <td>12831</td>\n",
       "      <td>1.243321</td>\n",
       "      <td>1.202098</td>\n",
       "    </tr>\n",
       "    <tr>\n",
       "      <th>1</th>\n",
       "      <td>3.439708</td>\n",
       "      <td>3</td>\n",
       "      <td>5</td>\n",
       "      <td>8</td>\n",
       "      <td>1.013798</td>\n",
       "      <td>-0.205764</td>\n",
       "      <td>2.607386</td>\n",
       "      <td>16170</td>\n",
       "      <td>-0.706036</td>\n",
       "      <td>-0.669975</td>\n",
       "    </tr>\n",
       "    <tr>\n",
       "      <th>2</th>\n",
       "      <td>0.003405</td>\n",
       "      <td>5</td>\n",
       "      <td>3</td>\n",
       "      <td>8</td>\n",
       "      <td>-0.522188</td>\n",
       "      <td>-0.205764</td>\n",
       "      <td>0.183828</td>\n",
       "      <td>2797</td>\n",
       "      <td>-1.095907</td>\n",
       "      <td>-1.076483</td>\n",
       "    </tr>\n",
       "    <tr>\n",
       "      <th>3</th>\n",
       "      <td>-0.839859</td>\n",
       "      <td>1</td>\n",
       "      <td>3</td>\n",
       "      <td>5</td>\n",
       "      <td>1.083616</td>\n",
       "      <td>1.138849</td>\n",
       "      <td>-0.830684</td>\n",
       "      <td>630</td>\n",
       "      <td>1.397217</td>\n",
       "      <td>1.266284</td>\n",
       "    </tr>\n",
       "    <tr>\n",
       "      <th>4</th>\n",
       "      <td>-1.029593</td>\n",
       "      <td>1</td>\n",
       "      <td>4</td>\n",
       "      <td>6</td>\n",
       "      <td>-0.103283</td>\n",
       "      <td>-1.102173</td>\n",
       "      <td>-1.182945</td>\n",
       "      <td>698</td>\n",
       "      <td>1.140723</td>\n",
       "      <td>1.188344</td>\n",
       "    </tr>\n",
       "  </tbody>\n",
       "</table>\n",
       "</div>"
      ],
      "text/plain": [
       "      carat  cut  color  clarity     depth     table         z  price  \\\n",
       "0  3.081321    1      4        8  0.106170 -0.205764  2.339667  12831   \n",
       "1  3.439708    3      5        8  1.013798 -0.205764  2.607386  16170   \n",
       "2  0.003405    5      3        8 -0.522188 -0.205764  0.183828   2797   \n",
       "3 -0.839859    1      3        5  1.083616  1.138849 -0.830684    630   \n",
       "4 -1.029593    1      4        6 -0.103283 -1.102173 -1.182945    698   \n",
       "\n",
       "   mean_cut_table  mean_cut_depth  \n",
       "0        1.243321        1.202098  \n",
       "1       -0.706036       -0.669975  \n",
       "2       -1.095907       -1.076483  \n",
       "3        1.397217        1.266284  \n",
       "4        1.140723        1.188344  "
      ]
     },
     "execution_count": 670,
     "metadata": {},
     "output_type": "execute_result"
    }
   ],
   "source": [
    "diamonds_train_copy.head()"
   ]
  },
  {
   "cell_type": "code",
   "execution_count": 671,
   "metadata": {},
   "outputs": [
    {
     "data": {
      "image/png": "[encoded data removed]",
      "text/plain": [
       "<Figure size 1440x1440 with 2 Axes>"
      ]
     },
     "metadata": {},
     "output_type": "display_data"
    }
   ],
   "source": [
    "plt.figure(figsize=(20,20))\n",
    "sns.heatmap(diamonds_train_copy.corr(), annot=True)\n",
    "plt.show()"
   ]
  },
  {
   "cell_type": "markdown",
   "metadata": {},
   "source": [
    "### - The first time i perform a PCA to reduce dimensionality but the results were better when I avoid it. I keep the function to test it in the future with other parameters"
   ]
  },
  {
   "cell_type": "code",
   "execution_count": 486,
   "metadata": {},
   "outputs": [],
   "source": [
    "# Reduction dimensionality with PCA\n",
    "def dimensionality(data, test):\n",
    "    pca = PCA(n_components=6)\n",
    "    data_pca = pd.DataFrame(pca.fit_transform(data))\n",
    "    data_test = pd.DataFrame(pca.transform(test))\n",
    "    return data_pca, data_test\n",
    "diamonds_train_copy, diamonds_test_copy = dimensionality(diamonds_train_copy, diamonds_test_copy)"
   ]
  },
  {
   "cell_type": "markdown",
   "metadata": {},
   "source": [
    "### - I split the dataframe to train our model"
   ]
  },
  {
   "cell_type": "code",
   "execution_count": null,
   "metadata": {},
   "outputs": [],
   "source": [
    "x = diamonds_train_copy.drop(columns=['price'])"
   ]
  },
  {
   "cell_type": "code",
   "execution_count": 673,
   "metadata": {},
   "outputs": [],
   "source": [
    "# Split into train and test our dataset\n",
    "\n",
    "def splitData(data, y, test_size):\n",
    "    x_train, x_test, y_train, y_test = train_test_split(data, y, test_size=test_size)\n",
    "    return x_train, x_test, y_train, y_test"
   ]
  },
  {
   "cell_type": "code",
   "execution_count": 674,
   "metadata": {},
   "outputs": [],
   "source": [
    "x_train, x_test, y_train, y_test = splitData(x, diamonds_train['price'], 0.2)"
   ]
  },
  {
   "cell_type": "markdown",
   "metadata": {},
   "source": [
    "## Models"
   ]
  },
  {
   "cell_type": "markdown",
   "metadata": {},
   "source": [
    "- ### Gradient Boosting Regressor"
   ]
  },
  {
   "cell_type": "code",
   "execution_count": 675,
   "metadata": {},
   "outputs": [
    {
     "data": {
      "text/plain": [
       "GradientBoostingRegressor(alpha=0.9, criterion='friedman_mse', init=None,\n",
       "                          learning_rate=0.1, loss='ls', max_depth=3,\n",
       "                          max_features=None, max_leaf_nodes=None,\n",
       "                          min_impurity_decrease=0.0, min_impurity_split=None,\n",
       "                          min_samples_leaf=1, min_samples_split=2,\n",
       "                          min_weight_fraction_leaf=0.0, n_estimators=2000,\n",
       "                          n_iter_no_change=None, presort='auto',\n",
       "                          random_state=None, subsample=1.0, tol=0.0001,\n",
       "                          validation_fraction=0.1, verbose=0, warm_start=False)"
      ]
     },
     "execution_count": 675,
     "metadata": {},
     "output_type": "execute_result"
    }
   ],
   "source": [
    "gb = GradientBoostingRegressor(n_estimators=2000, learning_rate = 0.1, loss='ls', max_depth = 3)\n",
    "gb.fit(x_train, y_train)"
   ]
  },
  {
   "cell_type": "code",
   "execution_count": 676,
   "metadata": {},
   "outputs": [],
   "source": [
    "# Calculate MSE to determine if our model predicts well\n",
    "\n",
    "def metrics(x_test, model, y_test):\n",
    "    prediction = model.predict(x_test)\n",
    "    mse = mean_squared_error(y_test, prediction)**0.5\n",
    "    r2 = r2_score(y_test, prediction)\n",
    "    return \"The squared mean error is {} and the r2 score is {}\".format(mse, r2)"
   ]
  },
  {
   "cell_type": "code",
   "execution_count": 677,
   "metadata": {},
   "outputs": [
    {
     "data": {
      "text/plain": [
       "'The squared mean error is 564.4451139017108 and the r2 score is 0.9807128252185441'"
      ]
     },
     "execution_count": 677,
     "metadata": {},
     "output_type": "execute_result"
    }
   ],
   "source": [
    "metrics(x_test, gb, y_test)"
   ]
  },
  {
   "cell_type": "code",
   "execution_count": 680,
   "metadata": {},
   "outputs": [],
   "source": [
    "prediction_gradient = gb.predict(diamonds_test_copy)"
   ]
  },
  {
   "cell_type": "code",
   "execution_count": 681,
   "metadata": {},
   "outputs": [],
   "source": [
    "# Our predictions to DataFrame\n",
    "\n",
    "def DataframePredict(predictions, model):\n",
    "    data_predictions = pd.DataFrame(predictions)\n",
    "    data_predictions.reset_index(level=0, inplace=True)\n",
    "    data_predictions = data_predictions.rename(columns={\"index\": \"id\", 0: \"price\"})\n",
    "    data_predictions.reset_index(drop=True)\n",
    "    data_predictions.price = data_predictions.price.apply(lambda x: round(x, 2))\n",
    "    data_predictions.to_csv('../output/prediction_{}.csv'.format(model), index=False)"
   ]
  },
  {
   "cell_type": "code",
   "execution_count": 682,
   "metadata": {},
   "outputs": [],
   "source": [
    "DataframePredict(prediction_gradient, \"gradient_boosting\")"
   ]
  },
  {
   "cell_type": "markdown",
   "metadata": {},
   "source": [
    "- ### Random Forest Regressor"
   ]
  },
  {
   "cell_type": "code",
   "execution_count": 683,
   "metadata": {},
   "outputs": [],
   "source": [
    "regr = RandomForestRegressor(n_estimators=1000, warm_start=False, min_samples_leaf=2, min_samples_split=4)"
   ]
  },
  {
   "cell_type": "code",
   "execution_count": 684,
   "metadata": {},
   "outputs": [
    {
     "data": {
      "text/plain": [
       "RandomForestRegressor(bootstrap=True, criterion='mse', max_depth=None,\n",
       "                      max_features='auto', max_leaf_nodes=None,\n",
       "                      min_impurity_decrease=0.0, min_impurity_split=None,\n",
       "                      min_samples_leaf=2, min_samples_split=4,\n",
       "                      min_weight_fraction_leaf=0.0, n_estimators=1000,\n",
       "                      n_jobs=None, oob_score=False, random_state=None,\n",
       "                      verbose=0, warm_start=False)"
      ]
     },
     "execution_count": 684,
     "metadata": {},
     "output_type": "execute_result"
    }
   ],
   "source": [
    "regr.fit(x_train, y_train)"
   ]
  },
  {
   "cell_type": "code",
   "execution_count": 685,
   "metadata": {},
   "outputs": [
    {
     "data": {
      "text/plain": [
       "'The squared mean error is 553.6628005772611 and the r2 score is 0.981442653770732'"
      ]
     },
     "execution_count": 685,
     "metadata": {},
     "output_type": "execute_result"
    }
   ],
   "source": [
    "metrics(x_test, regr, y_test)"
   ]
  },
  {
   "cell_type": "code",
   "execution_count": 688,
   "metadata": {},
   "outputs": [],
   "source": [
    "prediction = regr.predict(diamonds_test_copy)"
   ]
  },
  {
   "cell_type": "code",
   "execution_count": 689,
   "metadata": {},
   "outputs": [],
   "source": [
    "DataframePredict(prediction, \"randomForest\")"
   ]
  },
  {
   "cell_type": "code",
   "execution_count": 651,
   "metadata": {},
   "outputs": [],
   "source": [
    "# We save our best model model\n",
    "pickle_name = \"pickle_random_forest_563.pkl\"  \n",
    "\n",
    "with open(pickle_name, 'wb') as file:  \n",
    "    pickle.dump(regr, file)"
   ]
  },
  {
   "cell_type": "markdown",
   "metadata": {},
   "source": [
    "### - Now, I test Random Forest Regressor using GridSearch to find the best parameters. "
   ]
  },
  {
   "cell_type": "code",
   "execution_count": 625,
   "metadata": {},
   "outputs": [],
   "source": [
    "regr_grid = RandomForestRegressor()"
   ]
  },
  {
   "cell_type": "code",
   "execution_count": 626,
   "metadata": {},
   "outputs": [],
   "source": [
    "param_grid = {\n",
    "'n_estimators': [600,700,1000,1200],\n",
    " 'min_samples_split': [2,3,4],\n",
    " 'min_samples_leaf': [1,2,3,4],\n",
    " 'max_depth': [None],\n",
    "'warm_start': [False]}"
   ]
  },
  {
   "cell_type": "code",
   "execution_count": 627,
   "metadata": {},
   "outputs": [],
   "source": [
    "mse_scorer = make_scorer(mean_squared_error)"
   ]
  },
  {
   "cell_type": "code",
   "execution_count": 628,
   "metadata": {},
   "outputs": [],
   "source": [
    "grid_search = GridSearchCV(estimator = regr_grid, param_grid = param_grid, cv = 2, verbose = 2, scoring=mse_scorer)"
   ]
  },
  {
   "cell_type": "code",
   "execution_count": 687,
   "metadata": {},
   "outputs": [],
   "source": [
    "#grid_search.fit(x_train, y_train)"
   ]
  },
  {
   "cell_type": "code",
   "execution_count": null,
   "metadata": {},
   "outputs": [],
   "source": [
    "grid_search.best_estimator_.fit(x_train, y_train)"
   ]
  },
  {
   "cell_type": "code",
   "execution_count": null,
   "metadata": {},
   "outputs": [],
   "source": [
    "grid_search.best_estimator_.score(x_train, y_train)"
   ]
  },
  {
   "cell_type": "code",
   "execution_count": null,
   "metadata": {},
   "outputs": [],
   "source": [
    "metrics(x_test, grid_search.best_estimator_, y_test)"
   ]
  },
  {
   "cell_type": "code",
   "execution_count": 289,
   "metadata": {},
   "outputs": [],
   "source": [
    "prediction_grid_search = grid_search.best_estimator_.predict(diamonds_test_copy)"
   ]
  },
  {
   "cell_type": "code",
   "execution_count": 290,
   "metadata": {},
   "outputs": [],
   "source": [
    "DataframePredict(prediction_grid_search, \"grid_search\")"
   ]
  }
 ],
 "metadata": {
  "kernelspec": {
   "display_name": "Python 3",
   "language": "python",
   "name": "python3"
  },
  "language_info": {
   "codemirror_mode": {
    "name": "ipython",
    "version": 3
   },
   "file_extension": ".py",
   "mimetype": "text/x-python",
   "name": "python",
   "nbconvert_exporter": "python",
   "pygments_lexer": "ipython3",
   "version": "3.7.3"
  }
 },
 "nbformat": 4,
 "nbformat_minor": 2
}
